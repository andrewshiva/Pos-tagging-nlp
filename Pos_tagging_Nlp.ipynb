{
  "nbformat": 4,
  "nbformat_minor": 0,
  "metadata": {
    "colab": {
      "name": "Pos_tagging_Nlp.ipynb",
      "provenance": [],
      "authorship_tag": "ABX9TyM7ZBQyT6+iVT70Ksa3p9SV",
      "include_colab_link": true
    },
    "kernelspec": {
      "name": "python3",
      "display_name": "Python 3"
    }
  },
  "cells": [
    {
      "cell_type": "markdown",
      "metadata": {
        "id": "view-in-github",
        "colab_type": "text"
      },
      "source": [
        "<a href=\"https://colab.research.google.com/github/andrewshiva/Pos-tagging-nlp/blob/master/Pos_tagging_Nlp.ipynb\" target=\"_parent\"><img src=\"https://colab.research.google.com/assets/colab-badge.svg\" alt=\"Open In Colab\"/></a>"
      ]
    },
    {
      "cell_type": "code",
      "metadata": {
        "id": "DSVmGQgVWO_Z",
        "colab_type": "code",
        "outputId": "7bf52a7b-ad22-423a-bdea-18cd96f0d902",
        "colab": {
          "base_uri": "https://localhost:8080/",
          "height": 108
        }
      },
      "source": [
        "!pip install sklearn"
      ],
      "execution_count": 0,
      "outputs": [
        {
          "output_type": "stream",
          "text": [
            "Requirement already satisfied: sklearn in /usr/local/lib/python3.6/dist-packages (0.0)\n",
            "Requirement already satisfied: scikit-learn in /usr/local/lib/python3.6/dist-packages (from sklearn) (0.22.2.post1)\n",
            "Requirement already satisfied: scipy>=0.17.0 in /usr/local/lib/python3.6/dist-packages (from scikit-learn->sklearn) (1.4.1)\n",
            "Requirement already satisfied: numpy>=1.11.0 in /usr/local/lib/python3.6/dist-packages (from scikit-learn->sklearn) (1.18.4)\n",
            "Requirement already satisfied: joblib>=0.11 in /usr/local/lib/python3.6/dist-packages (from scikit-learn->sklearn) (0.15.1)\n"
          ],
          "name": "stdout"
        }
      ]
    },
    {
      "cell_type": "code",
      "metadata": {
        "id": "ArVj6STXWdpQ",
        "colab_type": "code",
        "outputId": "e016af3b-43fb-4665-dab2-e7b1eeec4e2a",
        "colab": {
          "base_uri": "https://localhost:8080/",
          "height": 126
        }
      },
      "source": [
        "import nltk\n",
        "nltk.download()"
      ],
      "execution_count": 0,
      "outputs": [
        {
          "output_type": "stream",
          "text": [
            "NLTK Downloader\n",
            "---------------------------------------------------------------------------\n",
            "    d) Download   l) List    u) Update   c) Config   h) Help   q) Quit\n",
            "---------------------------------------------------------------------------\n",
            "Downloader> q\n"
          ],
          "name": "stdout"
        },
        {
          "output_type": "execute_result",
          "data": {
            "text/plain": [
              "True"
            ]
          },
          "metadata": {
            "tags": []
          },
          "execution_count": 1
        }
      ]
    },
    {
      "cell_type": "code",
      "metadata": {
        "id": "JSkdutZuYP0J",
        "colab_type": "code",
        "outputId": "a10dd1d8-be9a-4916-ee35-8cd660efcf98",
        "colab": {
          "base_uri": "https://localhost:8080/",
          "height": 493
        }
      },
      "source": [
        ">>> import nltk\n",
        ">>> nltk.download('punkt')\n",
        ">>> nltk.download('twitter_samples')\n",
        ">>> from nltk.corpus import twitter_samples as ts\n",
        ">>> ts.fileids()\n",
        "['negative_tweets.json', 'positive_tweets.json', 'tweets.20150430-  223406.json']\n",
        ">>> samples_tw = ts.strings('tweets.20150430-223406.json')\n",
        ">>> samples_tw[20]\n",
        "\"@B0MBSKARE the anti-Scottish feeling is largely a product of Tory press scaremongering. In practice most people won't give a toss!\"\n",
        ">>> from nltk.tokenize import word_tokenize as wtoken\n",
        ">>> wtoken(samples_tw[20])\n",
        "['@', 'B0MBSKARE', 'the', 'anti-Scottish', 'feeling', 'is', 'largely', 'a', 'product', 'of', 'Tory', 'press', 'scaremongering', '.', 'In', 'practice', 'most', 'people', 'wo', \"n't\", 'give', 'a', 'toss', '!']"
      ],
      "execution_count": 45,
      "outputs": [
        {
          "output_type": "stream",
          "text": [
            "[nltk_data] Downloading package punkt to /root/nltk_data...\n",
            "[nltk_data]   Package punkt is already up-to-date!\n",
            "[nltk_data] Downloading package twitter_samples to /root/nltk_data...\n",
            "[nltk_data]   Package twitter_samples is already up-to-date!\n"
          ],
          "name": "stdout"
        },
        {
          "output_type": "execute_result",
          "data": {
            "text/plain": [
              "['@',\n",
              " 'B0MBSKARE',\n",
              " 'the',\n",
              " 'anti-Scottish',\n",
              " 'feeling',\n",
              " 'is',\n",
              " 'largely',\n",
              " 'a',\n",
              " 'product',\n",
              " 'of',\n",
              " 'Tory',\n",
              " 'press',\n",
              " 'scaremongering',\n",
              " '.',\n",
              " 'In',\n",
              " 'practice',\n",
              " 'most',\n",
              " 'people',\n",
              " 'wo',\n",
              " \"n't\",\n",
              " 'give',\n",
              " 'a',\n",
              " 'toss',\n",
              " '!']"
            ]
          },
          "metadata": {
            "tags": []
          },
          "execution_count": 45
        }
      ]
    },
    {
      "cell_type": "code",
      "metadata": {
        "id": "lwUIM1qHdeNJ",
        "colab_type": "code",
        "outputId": "91f6cf4c-5f67-415f-ae5b-6f3af5e18b4a",
        "colab": {
          "base_uri": "https://localhost:8080/",
          "height": 476
        }
      },
      "source": [
        "from nltk.tokenize import wordpunct_tokenize\n",
        ">>> samples_tw[20]\n",
        "\"@B0MBSKARE the anti-Scottish feeling is largely a product of Tory press scaremongering. In practice most people won't give a toss!\"\n",
        ">>> wordpunct_tokenize(samples_tw[20])\n",
        "['@', 'B0MBSKARE', 'the', 'anti', '-', 'Scottish', 'feeling', 'is', 'largely', 'a', 'product', 'of', 'Tory', 'press', 'scaremongering', '.', 'In', 'practice', 'most', 'people', 'won', \"'\", 't', 'give', 'a', 'toss', '!']"
      ],
      "execution_count": 18,
      "outputs": [
        {
          "output_type": "execute_result",
          "data": {
            "text/plain": [
              "['@',\n",
              " 'B0MBSKARE',\n",
              " 'the',\n",
              " 'anti',\n",
              " '-',\n",
              " 'Scottish',\n",
              " 'feeling',\n",
              " 'is',\n",
              " 'largely',\n",
              " 'a',\n",
              " 'product',\n",
              " 'of',\n",
              " 'Tory',\n",
              " 'press',\n",
              " 'scaremongering',\n",
              " '.',\n",
              " 'In',\n",
              " 'practice',\n",
              " 'most',\n",
              " 'people',\n",
              " 'won',\n",
              " \"'\",\n",
              " 't',\n",
              " 'give',\n",
              " 'a',\n",
              " 'toss',\n",
              " '!']"
            ]
          },
          "metadata": {
            "tags": []
          },
          "execution_count": 18
        }
      ]
    },
    {
      "cell_type": "code",
      "metadata": {
        "id": "mzEP96L4WHgG",
        "colab_type": "code",
        "outputId": "b19d82bb-dd6e-4bcc-ee88-88f802081a1c",
        "colab": {
          "base_uri": "https://localhost:8080/",
          "height": 391
        }
      },
      "source": [
        ">>> from nltk import regexp_tokenize\n",
        ">>> patn = '\\w+'\n",
        ">>> regexp_tokenize(samples_tw[20],patn)\n",
        "['B0MBSKARE', 'the', 'anti', 'Scottish', 'feeling', 'is', 'largely', 'a', 'product', 'of', 'Tory', 'press', 'scaremongering', 'In', 'practice', 'most', 'people', 'won', 't', 'give', 'a', 'toss']"
      ],
      "execution_count": 19,
      "outputs": [
        {
          "output_type": "execute_result",
          "data": {
            "text/plain": [
              "['B0MBSKARE',\n",
              " 'the',\n",
              " 'anti',\n",
              " 'Scottish',\n",
              " 'feeling',\n",
              " 'is',\n",
              " 'largely',\n",
              " 'a',\n",
              " 'product',\n",
              " 'of',\n",
              " 'Tory',\n",
              " 'press',\n",
              " 'scaremongering',\n",
              " 'In',\n",
              " 'practice',\n",
              " 'most',\n",
              " 'people',\n",
              " 'won',\n",
              " 't',\n",
              " 'give',\n",
              " 'a',\n",
              " 'toss']"
            ]
          },
          "metadata": {
            "tags": []
          },
          "execution_count": 19
        }
      ]
    },
    {
      "cell_type": "code",
      "metadata": {
        "id": "maHdQfWJSLrB",
        "colab_type": "code",
        "outputId": "c6424dea-042b-4904-c862-0fcbe5a53d90",
        "colab": {
          "base_uri": "https://localhost:8080/",
          "height": 425
        }
      },
      "source": [
        ">>> patn = '\\w+|[!,\\-,]'\n",
        ">>> regexp_tokenize(samples_tw[20],patn)\n",
        "['B0MBSKARE', 'the', 'anti', '-', 'Scottish', 'feeling', 'is', 'largely', 'a', 'product', 'of', 'Tory', 'press', 'scaremongering', 'In', 'practice', 'most', 'people', 'won', 't', 'give', 'a', 'toss', '!']"
      ],
      "execution_count": 20,
      "outputs": [
        {
          "output_type": "execute_result",
          "data": {
            "text/plain": [
              "['B0MBSKARE',\n",
              " 'the',\n",
              " 'anti',\n",
              " '-',\n",
              " 'Scottish',\n",
              " 'feeling',\n",
              " 'is',\n",
              " 'largely',\n",
              " 'a',\n",
              " 'product',\n",
              " 'of',\n",
              " 'Tory',\n",
              " 'press',\n",
              " 'scaremongering',\n",
              " 'In',\n",
              " 'practice',\n",
              " 'most',\n",
              " 'people',\n",
              " 'won',\n",
              " 't',\n",
              " 'give',\n",
              " 'a',\n",
              " 'toss',\n",
              " '!']"
            ]
          },
          "metadata": {
            "tags": []
          },
          "execution_count": 20
        }
      ]
    },
    {
      "cell_type": "code",
      "metadata": {
        "id": "ZxEJZVQud7ub",
        "colab_type": "code",
        "colab": {}
      },
      "source": [
        ""
      ],
      "execution_count": 0,
      "outputs": []
    },
    {
      "cell_type": "code",
      "metadata": {
        "id": "RQLJ4iD1S3Sr",
        "colab_type": "code",
        "outputId": "689edede-99fa-4e51-e09c-f61a859d5e95",
        "colab": {
          "base_uri": "https://localhost:8080/",
          "height": 34
        }
      },
      "source": [
        ">>> import nltk\n",
        ">>> from nltk.stem import PorterStemmer\n",
        ">>> stemming = PorterStemmer()\n",
        ">>> stemming.stem(\"enjoying\")\n",
        "'enjoy'\n",
        ">>> stemming.stem(\"enjoys\")\n",
        "'enjoy'\n",
        ">>> stemming.stem(\"enjoyable\")\n",
        "'enjoy'"
      ],
      "execution_count": 21,
      "outputs": [
        {
          "output_type": "execute_result",
          "data": {
            "text/plain": [
              "'enjoy'"
            ]
          },
          "metadata": {
            "tags": []
          },
          "execution_count": 21
        }
      ]
    },
    {
      "cell_type": "code",
      "metadata": {
        "id": "hrwP85biTDjG",
        "colab_type": "code",
        "outputId": "74693768-f5b1-43cb-b7f7-524bd9fd52ea",
        "colab": {
          "base_uri": "https://localhost:8080/",
          "height": 34
        }
      },
      "source": [
        ">>> import nltk\n",
        ">>> from nltk.stem import PorterStemmer\n",
        ">>> stemming.stem(\"variation\")\n",
        "'variat'\n",
        ">>> stemming.stem(\"variate\")\n",
        "'variat'"
      ],
      "execution_count": 22,
      "outputs": [
        {
          "output_type": "execute_result",
          "data": {
            "text/plain": [
              "'variat'"
            ]
          },
          "metadata": {
            "tags": []
          },
          "execution_count": 22
        }
      ]
    },
    {
      "cell_type": "code",
      "metadata": {
        "id": "_gH9E-jPTsit",
        "colab_type": "code",
        "outputId": "71726a3e-f8aa-465d-b19a-7676f14b42c0",
        "colab": {
          "base_uri": "https://localhost:8080/",
          "height": 34
        }
      },
      "source": [
        ">>> from nltk.stem import RegexpStemmer\n",
        ">>> regexp_stemmer = RegexpStemmer(\"able$|ing$\",min=4)\n",
        ">>> regexp_stemmer.stem(\"flyable\")\n",
        "'fly'\n",
        ">>> regexp_stemmer.stem(\"flying\")\n",
        "'fly'"
      ],
      "execution_count": 23,
      "outputs": [
        {
          "output_type": "execute_result",
          "data": {
            "text/plain": [
              "'fly'"
            ]
          },
          "metadata": {
            "tags": []
          },
          "execution_count": 23
        }
      ]
    },
    {
      "cell_type": "code",
      "metadata": {
        "id": "a-d96ftJUbIx",
        "colab_type": "code",
        "outputId": "6bb5cb70-9d43-4270-85d6-7c4068ffce91",
        "colab": {
          "base_uri": "https://localhost:8080/",
          "height": 391
        }
      },
      "source": [
        ">>> from nltk.corpus import stopwords\n",
        ">>> nltk.download('stopwords')\n",
        ">>> sw_l = stopwords.words('english')\n",
        ">>> sw_l[20:40]\n",
        "['himself', 'she', \"she's\", 'her', 'hers', 'herself', 'it', \"it's\", 'its', 'itself', 'they', 'them', 'their', 'theirs', 'themselves', 'what', 'which', 'who', 'whom', 'this']"
      ],
      "execution_count": 24,
      "outputs": [
        {
          "output_type": "stream",
          "text": [
            "[nltk_data] Downloading package stopwords to /root/nltk_data...\n",
            "[nltk_data]   Unzipping corpora/stopwords.zip.\n"
          ],
          "name": "stdout"
        },
        {
          "output_type": "execute_result",
          "data": {
            "text/plain": [
              "['himself',\n",
              " 'she',\n",
              " \"she's\",\n",
              " 'her',\n",
              " 'hers',\n",
              " 'herself',\n",
              " 'it',\n",
              " \"it's\",\n",
              " 'its',\n",
              " 'itself',\n",
              " 'they',\n",
              " 'them',\n",
              " 'their',\n",
              " 'theirs',\n",
              " 'themselves',\n",
              " 'what',\n",
              " 'which',\n",
              " 'who',\n",
              " 'whom',\n",
              " 'this']"
            ]
          },
          "metadata": {
            "tags": []
          },
          "execution_count": 24
        }
      ]
    },
    {
      "cell_type": "code",
      "metadata": {
        "id": "2gX1nQSnYgc0",
        "colab_type": "code",
        "outputId": "c2c71e85-6147-456b-849e-5b6001a3ae8b",
        "colab": {
          "base_uri": "https://localhost:8080/",
          "height": 34
        }
      },
      "source": [
        ">>> example_text = \"This is an example sentence to test stopwords\"\n",
        ">>> example_text_without_stopwords=[word for word in example_text.split() if word not in sw_l]\n",
        ">>> example_text_without_stopwords\n",
        "['This', 'example', 'sentence', 'test', 'stopwords']"
      ],
      "execution_count": 25,
      "outputs": [
        {
          "output_type": "execute_result",
          "data": {
            "text/plain": [
              "['This', 'example', 'sentence', 'test', 'stopwords']"
            ]
          },
          "metadata": {
            "tags": []
          },
          "execution_count": 25
        }
      ]
    },
    {
      "cell_type": "code",
      "metadata": {
        "id": "LFSXTKJ6aGaj",
        "colab_type": "code",
        "outputId": "7df7570c-5318-47e6-deb0-caa130e6aacf",
        "colab": {
          "base_uri": "https://localhost:8080/",
          "height": 68
        }
      },
      "source": [
        ">>> from nltk.corpus import gutenberg\n",
        ">>> nltk.download('gutenberg')\n",
        ">>> words_in_hamlet = gutenberg.words('shakespeare-hamlet.txt')\n",
        ">>> words_in_hamlet_without_sw = [word for word in words_in_hamlet if word not in sw_l]\n",
        ">>> len(words_in_hamlet_without_sw)*100.0/len(words_in_hamlet)\n"
      ],
      "execution_count": 26,
      "outputs": [
        {
          "output_type": "stream",
          "text": [
            "[nltk_data] Downloading package gutenberg to /root/nltk_data...\n",
            "[nltk_data]   Unzipping corpora/gutenberg.zip.\n"
          ],
          "name": "stdout"
        },
        {
          "output_type": "execute_result",
          "data": {
            "text/plain": [
              "69.26124197002142"
            ]
          },
          "metadata": {
            "tags": []
          },
          "execution_count": 26
        }
      ]
    },
    {
      "cell_type": "code",
      "metadata": {
        "id": "fKMI7PZ8bEye",
        "colab_type": "code",
        "outputId": "d61ad305-4bc3-41de-f159-72e3394ee636",
        "colab": {
          "base_uri": "https://localhost:8080/",
          "height": 68
        }
      },
      "source": [
        ">>> import nltk\n",
        ">>> nltk.download('webtext')\n",
        ">>> from nltk.corpus import webtext\n",
        ">>> webtext_sentences = webtext.sents('firefox.txt')\n",
        ">>> webtext_words = webtext.words('firefox.txt')\n",
        ">>> len(webtext_sentences)\n",
        "1142\n",
        ">>> len(webtext_words)"
      ],
      "execution_count": 27,
      "outputs": [
        {
          "output_type": "stream",
          "text": [
            "[nltk_data] Downloading package webtext to /root/nltk_data...\n",
            "[nltk_data]   Package webtext is already up-to-date!\n"
          ],
          "name": "stdout"
        },
        {
          "output_type": "execute_result",
          "data": {
            "text/plain": [
              "102457"
            ]
          },
          "metadata": {
            "tags": []
          },
          "execution_count": 27
        }
      ]
    },
    {
      "cell_type": "code",
      "metadata": {
        "id": "RL-cTyWfblsK",
        "colab_type": "code",
        "outputId": "e7d04770-6d3e-4c1c-b35b-4808e302aab4",
        "colab": {
          "base_uri": "https://localhost:8080/",
          "height": 34
        }
      },
      "source": [
        ">>> vocabulary = set(webtext_words)\n",
        ">>> len(vocabulary)\n",
        "8296"
      ],
      "execution_count": 28,
      "outputs": [
        {
          "output_type": "execute_result",
          "data": {
            "text/plain": [
              "8296"
            ]
          },
          "metadata": {
            "tags": []
          },
          "execution_count": 28
        }
      ]
    },
    {
      "cell_type": "code",
      "metadata": {
        "id": "UkDpxUbAbwz4",
        "colab_type": "code",
        "outputId": "8eda499d-29e6-47c6-9998-a20e6d97e970",
        "colab": {
          "base_uri": "https://localhost:8080/",
          "height": 527
        }
      },
      "source": [
        ">>> frequency_dist = nltk.FreqDist(webtext_words)\n",
        ">>> sorted(frequency_dist,key=frequency_dist.__getitem__, reverse=True)[0:30]\n",
        "['.', 'in', 'to', '\"', 'the', \"'\", 'not', '-', 'when', 'on', 'a', 'is', 't', 'and', 'of', '(', 'page', 'for', 'with', ')', 'window', 'Firefox', 'does', 'from', 'open', ':', 'menu', 'should', 'bar', 'tab']"
      ],
      "execution_count": 29,
      "outputs": [
        {
          "output_type": "execute_result",
          "data": {
            "text/plain": [
              "['.',\n",
              " 'in',\n",
              " 'to',\n",
              " '\"',\n",
              " 'the',\n",
              " \"'\",\n",
              " 'not',\n",
              " '-',\n",
              " 'when',\n",
              " 'on',\n",
              " 'a',\n",
              " 'is',\n",
              " 't',\n",
              " 'and',\n",
              " 'of',\n",
              " '(',\n",
              " 'page',\n",
              " 'for',\n",
              " 'with',\n",
              " ')',\n",
              " 'window',\n",
              " 'Firefox',\n",
              " 'does',\n",
              " 'from',\n",
              " 'open',\n",
              " ':',\n",
              " 'menu',\n",
              " 'should',\n",
              " 'bar',\n",
              " 'tab']"
            ]
          },
          "metadata": {
            "tags": []
          },
          "execution_count": 29
        }
      ]
    },
    {
      "cell_type": "code",
      "metadata": {
        "id": "k1cPVCCbcKnW",
        "colab_type": "code",
        "outputId": "81801fa9-ab2c-481a-9215-3a795a3eda35",
        "colab": {
          "base_uri": "https://localhost:8080/",
          "height": 325
        }
      },
      "source": [
        ">>> large_words = dict([(k,v) for k,v in frequency_dist.items() if len(k)>3])\n",
        ">>> frequency_dist = nltk.FreqDist(large_words)\n",
        ">>> frequency_dist.plot(50,cumulative=False)"
      ],
      "execution_count": 30,
      "outputs": [
        {
          "output_type": "display_data",
          "data": {
            "image/png": "[encoded data removed]",
            "text/plain": [
              "<Figure size 432x288 with 1 Axes>"
            ]
          },
          "metadata": {
            "tags": [],
            "needs_background": "light"
          }
        }
      ]
    },
    {
      "cell_type": "code",
      "metadata": {
        "id": "xwleLzcriDPT",
        "colab_type": "code",
        "outputId": "30238b2d-cccc-41c2-8034-5ffd09d0b0e9",
        "colab": {
          "base_uri": "https://localhost:8080/",
          "height": 72
        }
      },
      "source": [
        "!pip install wordcloud"
      ],
      "execution_count": 0,
      "outputs": [
        {
          "output_type": "stream",
          "text": [
            "Requirement already satisfied: wordcloud in /usr/local/lib/python3.6/dist-packages (1.5.0)\n",
            "Requirement already satisfied: pillow in /usr/local/lib/python3.6/dist-packages (from wordcloud) (7.0.0)\n",
            "Requirement already satisfied: numpy>=1.6.1 in /usr/local/lib/python3.6/dist-packages (from wordcloud) (1.18.4)\n"
          ],
          "name": "stdout"
        }
      ]
    },
    {
      "cell_type": "code",
      "metadata": {
        "id": "DXkz1sHdiNd4",
        "colab_type": "code",
        "outputId": "01fbed24-3da0-4617-f62d-726117acfc89",
        "colab": {
          "base_uri": "https://localhost:8080/",
          "height": 198
        }
      },
      "source": [
        ">>> from wordcloud import WordCloud\n",
        ">>> wcloud = WordCloud().generate_from_frequencies(frequency_dist)\n",
        ">>> import matplotlib.pyplot as plt\n",
        ">>> plt.imshow(wcloud, interpolation='bilinear')\n",
        ">>> plt.axis(\"off\")\n",
        "(-0.5, 399.5, 199.5, -0.5)\n",
        ">>> plt.show()"
      ],
      "execution_count": 31,
      "outputs": [
        {
          "output_type": "display_data",
          "data": {
            "image/png": "[encoded data removed]",
            "text/plain": [
              "<Figure size 432x288 with 1 Axes>"
            ]
          },
          "metadata": {
            "tags": [],
            "needs_background": "light"
          }
        }
      ]
    },
    {
      "cell_type": "code",
      "metadata": {
        "id": "-pInVY5qicwj",
        "colab_type": "code",
        "outputId": "fe252372-59a1-450e-900a-77bc8e2554fa",
        "colab": {
          "base_uri": "https://localhost:8080/",
          "height": 34
        }
      },
      "source": [
        ">>> words_in_webtext_without_sw = [word for word in webtext_words if word not in sw_l]\n",
        ">>> 'when' in words_in_webtext_without_sw\n",
        "False\n",
        ">>> 'from' in words_in_webtext_without_sw\n",
        "False"
      ],
      "execution_count": 32,
      "outputs": [
        {
          "output_type": "execute_result",
          "data": {
            "text/plain": [
              "False"
            ]
          },
          "metadata": {
            "tags": []
          },
          "execution_count": 32
        }
      ]
    },
    {
      "cell_type": "code",
      "metadata": {
        "id": "iubMLs14i_BR",
        "colab_type": "code",
        "outputId": "c945f290-f634-45f4-e3a6-dbaad678596d",
        "colab": {
          "base_uri": "https://localhost:8080/",
          "height": 255
        }
      },
      "source": [
        ">>> from nltk.corpus import brown\n",
        ">>> nltk.download('universal_tagset')\n",
        ">>> nltk.download('brown')\n",
        ">>> brown.tagged_words()[30:40]\n",
        "[('term-end', 'NN'), ('presentments', 'NNS'), ('that', 'CS'), ('the', 'AT'), ('City', 'NN-TL'), ('Executive', 'JJ-TL'), ('Committee', 'NN-TL'), (',', ','), ('which', 'WDT'), ('had', 'HVD')]\n",
        ">>> brown.tagged_words(tagset='universal')[30:40]\n",
        "[('term-end', 'NOUN'), ('presentments', 'NOUN'), ('that', 'ADP'), ('the', 'DET'), ('City', 'NOUN'), ('Executive', 'ADJ'), ('Committee', 'NOUN'), (',', '.'), ('which', 'DET'), ('had', 'VERB')]"
      ],
      "execution_count": 33,
      "outputs": [
        {
          "output_type": "stream",
          "text": [
            "[nltk_data] Downloading package universal_tagset to /root/nltk_data...\n",
            "[nltk_data]   Package universal_tagset is already up-to-date!\n",
            "[nltk_data] Downloading package brown to /root/nltk_data...\n",
            "[nltk_data]   Package brown is already up-to-date!\n"
          ],
          "name": "stdout"
        },
        {
          "output_type": "execute_result",
          "data": {
            "text/plain": [
              "[('term-end', 'NOUN'),\n",
              " ('presentments', 'NOUN'),\n",
              " ('that', 'ADP'),\n",
              " ('the', 'DET'),\n",
              " ('City', 'NOUN'),\n",
              " ('Executive', 'ADJ'),\n",
              " ('Committee', 'NOUN'),\n",
              " (',', '.'),\n",
              " ('which', 'DET'),\n",
              " ('had', 'VERB')]"
            ]
          },
          "metadata": {
            "tags": []
          },
          "execution_count": 33
        }
      ]
    },
    {
      "cell_type": "code",
      "metadata": {
        "id": "7qBkl9TjwTPQ",
        "colab_type": "code",
        "outputId": "4bdb3169-4d64-4145-9f5d-7fbc281f4413",
        "colab": {
          "base_uri": "https://localhost:8080/",
          "height": 102
        }
      },
      "source": [
        ">>> import nltk\n",
        ">>> nltk.download('averaged_perceptron_tagger')\n",
        ">>> text1 = nltk.word_tokenize(\"I left the room\")\n",
        ">>> text2 = nltk.word_tokenize(\"Left of the room\")\n",
        ">>> nltk.pos_tag(text1,tagset='universal')\n",
        "[('I', 'PRON'), ('left', 'VERB'), ('the', 'DET'), ('room', 'NOUN')]\n",
        ">>> nltk.pos_tag(text2, tagset='universal')\n",
        "[('Left', 'NOUN'), ('of', 'ADP'), ('the', 'DET'), ('room', 'NOUN')]"
      ],
      "execution_count": 34,
      "outputs": [
        {
          "output_type": "stream",
          "text": [
            "[nltk_data] Downloading package averaged_perceptron_tagger to\n",
            "[nltk_data]     /root/nltk_data...\n",
            "[nltk_data]   Package averaged_perceptron_tagger is already up-to-\n",
            "[nltk_data]       date!\n"
          ],
          "name": "stdout"
        },
        {
          "output_type": "execute_result",
          "data": {
            "text/plain": [
              "[('Left', 'NOUN'), ('of', 'ADP'), ('the', 'DET'), ('room', 'NOUN')]"
            ]
          },
          "metadata": {
            "tags": []
          },
          "execution_count": 34
        }
      ]
    },
    {
      "cell_type": "code",
      "metadata": {
        "id": "u_CekA-6z2n6",
        "colab_type": "code",
        "outputId": "0e68a3cc-4459-4d66-b540-27328396a05c",
        "colab": {
          "base_uri": "https://localhost:8080/",
          "height": 221
        }
      },
      "source": [
        ">>> import nltk\n",
        ">>> nltk.download('maxent_ne_chunker')\n",
        ">>> nltk.download('words')\n",
        ">>> from sklearn import tree\n",
        ">>> example_sent = nltk.word_tokenize(\"The company is located in South Africa\")\n",
        ">>> example_sent\n",
        "['The', 'company', 'is', 'located', 'in', 'South', 'Africa']\n",
        ">>> tagged_sent = nltk.pos_tag(example_sent)\n",
        ">>> tagged_sent\n",
        "[('The', 'DT'), ('company', 'NN'), ('is', 'VBZ'), ('located', 'VBN'), ('in', 'IN'), ('South', 'NNP'), ('Africa', 'NNP')]\n",
        ">>> nltk.ne_chunk(tagged_sent)\n",
        "('S', [('The', 'DT'), ('company', 'NN'), ('is', 'VBZ'), ('located', 'VBN'), ('in', 'IN'), ('GPE', [('South', 'NNP'), ('Africa', 'NNP')])])\n"
      ],
      "execution_count": 35,
      "outputs": [
        {
          "output_type": "stream",
          "text": [
            "[nltk_data] Downloading package maxent_ne_chunker to\n",
            "[nltk_data]     /root/nltk_data...\n",
            "[nltk_data]   Package maxent_ne_chunker is already up-to-date!\n",
            "[nltk_data] Downloading package words to /root/nltk_data...\n",
            "[nltk_data]   Package words is already up-to-date!\n"
          ],
          "name": "stdout"
        },
        {
          "output_type": "execute_result",
          "data": {
            "text/plain": [
              "('S',\n",
              " [('The', 'DT'),\n",
              "  ('company', 'NN'),\n",
              "  ('is', 'VBZ'),\n",
              "  ('located', 'VBN'),\n",
              "  ('in', 'IN'),\n",
              "  ('GPE', [('South', 'NNP'), ('Africa', 'NNP')])])"
            ]
          },
          "metadata": {
            "tags": []
          },
          "execution_count": 35
        }
      ]
    },
    {
      "cell_type": "code",
      "metadata": {
        "id": "5hDhyC2B1FCy",
        "colab_type": "code",
        "colab": {}
      },
      "source": [
        "def sentence_features(st, ix):\n",
        "    d_ft = {}\n",
        "    d_ft['word'] = st[ix]\n",
        "    d_ft['dist_from_first'] = ix - 0\n",
        "    d_ft['dist_from_last'] = len(st) - ix\n",
        "    d_ft['capitalized'] = st[ix][0].upper() == st[ix][0]\n",
        "    d_ft['prefix1'] = st[ix][0]\n",
        "    d_ft['prefix2'] = st[ix][:2]\n",
        "    d_ft['prefix3'] = st[ix][:3]\n",
        "    d_ft['suffix1'] = st[ix][-1]\n",
        "    d_ft['suffix2'] = st[ix][-2:]\n",
        "    d_ft['suffix3'] = st[ix][-3:]\n",
        "    d_ft['prev_word'] = '' if ix==0 else st[ix-1]\n",
        "    d_ft['next_word'] = '' if ix==(len(st)-1) else st[ix+1]\n",
        "    d_ft['numeric'] = st[ix].isdigit()\n",
        "    return d_ft"
      ],
      "execution_count": 0,
      "outputs": []
    },
    {
      "cell_type": "code",
      "metadata": {
        "id": "zzCPphSXzq3a",
        "colab_type": "code",
        "colab": {}
      },
      "source": [
        "def get_untagged_sentence(tagged_sentence):\n",
        "    [s,t] = zip(*tagged_sentence)\n",
        "    return list(s)"
      ],
      "execution_count": 0,
      "outputs": []
    },
    {
      "cell_type": "code",
      "metadata": {
        "id": "5Av9vUwp4lmh",
        "colab_type": "code",
        "outputId": "68608159-32b4-4883-cec2-271965cdca2a",
        "colab": {
          "base_uri": "https://localhost:8080/",
          "height": 51
        }
      },
      "source": [
        ">>> nltk.download('treebank')\n",
        "tagged_sentences = nltk.corpus.treebank.tagged_sents(tagset='universal')"
      ],
      "execution_count": 6,
      "outputs": [
        {
          "output_type": "stream",
          "text": [
            "[nltk_data] Downloading package treebank to /root/nltk_data...\n",
            "[nltk_data]   Package treebank is already up-to-date!\n"
          ],
          "name": "stdout"
        }
      ]
    },
    {
      "cell_type": "code",
      "metadata": {
        "id": "2WlwXdjH45KQ",
        "colab_type": "code",
        "outputId": "57ebdf4f-a9dc-46c2-ad1d-b638857414c1",
        "colab": {
          "base_uri": "https://localhost:8080/",
          "height": 51
        }
      },
      "source": [
        " nltk.download('universal_tagset')\n",
        "def ext_ft(tg_sent):\n",
        "    sent, tag = [], []\n",
        "\n",
        "    for tg in tg_sent:\n",
        "        for index in range(len(tg)):\n",
        "            sent.append(sentence_features(get_untagged_sentence(tg), index))\n",
        "            tag.append(tg[index][1])\n",
        "\n",
        "    return sent, tag\n",
        "\n",
        "X,y = ext_ft(tagged_sentences)\n"
      ],
      "execution_count": 7,
      "outputs": [
        {
          "output_type": "stream",
          "text": [
            "[nltk_data] Downloading package universal_tagset to /root/nltk_data...\n",
            "[nltk_data]   Package universal_tagset is already up-to-date!\n"
          ],
          "name": "stdout"
        }
      ]
    },
    {
      "cell_type": "code",
      "metadata": {
        "id": "JwcDJpKPdeo-",
        "colab_type": "code",
        "colab": {}
      },
      "source": [
        ""
      ],
      "execution_count": 0,
      "outputs": []
    },
    {
      "cell_type": "code",
      "metadata": {
        "id": "8xKet4mKjlgi",
        "colab_type": "code",
        "colab": {}
      },
      "source": [
        "from sklearn.feature_extraction import DictVectorizer\n",
        "from sklearn.model_selection import train_test_split\n",
        "n_sample = 20000\n",
        "dict_vectorizer = DictVectorizer(sparse=False)\n",
        "X_transformed = dict_vectorizer.fit_transform(X[0:n_sample])\n",
        "y_sampled = y[0:n_sample]"
      ],
      "execution_count": 0,
      "outputs": []
    },
    {
      "cell_type": "code",
      "metadata": {
        "id": "aS2mtfrvkN4V",
        "colab_type": "code",
        "colab": {}
      },
      "source": [
        "X_train,X_test,y_train,y_test = train_test_split(X_transformed, y_sampled, test_size=0.2, random_state=123)\n"
      ],
      "execution_count": 0,
      "outputs": []
    },
    {
      "cell_type": "code",
      "metadata": {
        "id": "qS-jcvvWqDwt",
        "colab_type": "code",
        "colab": {}
      },
      "source": [
        "from sklearn.ensemble import RandomForestClassifier\n",
        "rf = RandomForestClassifier(n_jobs=4)\n",
        "rf.fit(X_train,y_train)\n",
        "def predict_pos_tags(sentence):\n",
        " tagged_sentence = []\n",
        " features = [sentence_features(sentence, index) for index in range(len(sentence))]\n",
        " features = dict_vectorizer.transform(features)\n",
        " tags = rf.predict(features)\n",
        " return zip(sentence, tags)"
      ],
      "execution_count": 0,
      "outputs": []
    },
    {
      "cell_type": "code",
      "metadata": {
        "id": "LAdcaX1GztMq",
        "colab_type": "code",
        "outputId": "bc4901ea-e329-4622-be57-7b73b695f20e",
        "colab": {
          "base_uri": "https://localhost:8080/",
          "height": 119
        }
      },
      "source": [
        "test_sentence = \"This is a simple POS tagger\"\n",
        "for tagged in predict_pos_tags(test_sentence.split()):\n",
        "  print(tagged)"
      ],
      "execution_count": 38,
      "outputs": [
        {
          "output_type": "stream",
          "text": [
            "('This', 'DET')\n",
            "('is', 'VERB')\n",
            "('a', 'DET')\n",
            "('simple', 'ADJ')\n",
            "('POS', 'NOUN')\n",
            "('tagger', 'NOUN')\n"
          ],
          "name": "stdout"
        }
      ]
    },
    {
      "cell_type": "code",
      "metadata": {
        "id": "BFTUo_49ndo8",
        "colab_type": "code",
        "colab": {}
      },
      "source": [
        "\n",
        "predictions = rf.predict(X_test)\n"
      ],
      "execution_count": 0,
      "outputs": []
    },
    {
      "cell_type": "code",
      "metadata": {
        "id": "0w9-kn2dntNT",
        "colab_type": "code",
        "colab": {
          "base_uri": "https://localhost:8080/",
          "height": 34
        },
        "outputId": "c24c15a3-3718-4866-9b4f-27b6c89ac43f"
      },
      "source": [
        "from sklearn.metrics import accuracy_score\n",
        "\n",
        "accuracy_score(y_test,predictions)"
      ],
      "execution_count": 42,
      "outputs": [
        {
          "output_type": "execute_result",
          "data": {
            "text/plain": [
              "0.9385"
            ]
          },
          "metadata": {
            "tags": []
          },
          "execution_count": 42
        }
      ]
    },
    {
      "cell_type": "code",
      "metadata": {
        "id": "EQYEgcaJn-0I",
        "colab_type": "code",
        "colab": {
          "base_uri": "https://localhost:8080/",
          "height": 597
        },
        "outputId": "95b88d6b-e65b-4d1c-efb7-ef217dc3a0a0"
      },
      "source": [
        "import numpy as np\n",
        "from sklearn.metrics import confusion_matrix\n",
        "conf_matrix = confusion_matrix(y_test,predictions)\n",
        "plt.figure(figsize=(10,10))\n",
        "plt.xticks(np.arange(len(rf.classes_)),rf.classes_)\n",
        "plt.yticks(np.arange(len(rf.classes_)),rf.classes_)\n",
        "plt.imshow(conf_matrix,cmap=plt.cm.Blues)\n",
        "plt.colorbar()"
      ],
      "execution_count": 46,
      "outputs": [
        {
          "output_type": "execute_result",
          "data": {
            "text/plain": [
              "<matplotlib.colorbar.Colorbar at 0x7ff117bd3630>"
            ]
          },
          "metadata": {
            "tags": []
          },
          "execution_count": 46
        },
        {
          "output_type": "display_data",
          "data": {
            "image/png": "[encoded data removed]",
            "text/plain": [
              "<Figure size 720x720 with 2 Axes>"
            ]
          },
          "metadata": {
            "tags": [],
            "needs_background": "light"
          }
        }
      ]
    },
    {
      "cell_type": "code",
      "metadata": {
        "id": "9fXDKSmLobov",
        "colab_type": "code",
        "colab": {
          "base_uri": "https://localhost:8080/",
          "height": 54
        },
        "outputId": "f4328688-307c-47c3-cf14-14588030fdfe"
      },
      "source": [
        "feature_list = zip(dict_vectorizer.get_feature_names(),rf.feature_importances_)\n",
        "sorted_features = sorted(feature_list,key=lambda x: x[1], reverse=True)\n",
        "print(sorted_features[0:20])"
      ],
      "execution_count": 47,
      "outputs": [
        {
          "output_type": "stream",
          "text": [
            "[('capitalized', 0.01721811996099733), ('prefix1=*', 0.015887840028557566), ('dist_from_last', 0.015024715668683604), ('prefix2=,', 0.011275615590866445), ('suffix2=ed', 0.010642120098231704), ('suffix2=he', 0.010513373115628335), ('prefix2=th', 0.010312091960101744), ('dist_from_first', 0.009940821505713071), ('prefix3=,', 0.009809549362804424), ('prefix3=the', 0.009079659641562609), ('suffix1=d', 0.009066575907795357), ('word=the', 0.008968697252306718), ('suffix3=the', 0.008061259694180839), ('suffix3=,', 0.007969100718874316), ('next_word=', 0.00708365009675524), ('word=,', 0.006781566633071492), ('suffix1=s', 0.006627618306860482), ('suffix1=,', 0.006356628734905583), ('word=and', 0.006271798762795746), ('prefix1=t', 0.005998993809357681)]\n"
          ],
          "name": "stdout"
        }
      ]
    },
    {
      "cell_type": "code",
      "metadata": {
        "id": "b0DdPipQofdk",
        "colab_type": "code",
        "colab": {}
      },
      "source": [
        ""
      ],
      "execution_count": 0,
      "outputs": []
    }
  ]
}